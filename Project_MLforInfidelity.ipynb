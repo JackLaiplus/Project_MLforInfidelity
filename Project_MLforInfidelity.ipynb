{
 "cells": [
  {
   "cell_type": "markdown",
   "id": "50d28584",
   "metadata": {},
   "source": [
    "# Purpose\n",
    "研究婚外情的數據\n",
    "\n",
    "(1) 該位外遇的可能性有多大？ \n",
    "(2) 影響外遇的原因是什麼？ \n",
    "(3) 可以根據分析結果說明如何降低外遇的發生嗎？"
   ]
  },
  {
   "cell_type": "markdown",
   "id": "ca4a9c13",
   "metadata": {},
   "source": [
    "# 數據說明"
   ]
  },
  {
   "cell_type": "markdown",
   "id": "184b2531",
   "metadata": {},
   "source": [
    "* 婚外情數據即著名的“Fair’s Affairs”，取自於1969年《今日心理》（Psychology Today）所做的一個代表性調查\n",
    "* 該數據從601個參與者身上收集了9個變量\n",
    "* 變數包括一年來婚外情的頻率以及參與者性別、年齡、婚齡、是否有小孩、宗教信仰程度、學歷、職業，還有對婚姻的自我評分"
   ]
  },
  {
   "cell_type": "markdown",
   "id": "a63349fe",
   "metadata": {},
   "source": [
    "#### affairs 受訪者在過去一年中進行外遇的頻率         \n",
    "0 = 無         \n",
    "1 = 一次       \n",
    "2 = 兩次         \n",
    "3 = 三倍         \n",
    "7 = 4 - 10 次         \n",
    "12 = 每月或更多         \n",
    "\n",
    "#### gender          \n",
    "0 = 女性         \n",
    "1 = 男性         \n",
    "\n",
    "#### age         \n",
    "17.5 = 20 歲以下         \n",
    "22.0 = 20 - 24         \n",
    "27.0 = 25 - 29         \n",
    "32.0 = 30 - 34         \n",
    "37.0 = 35 - 39         \n",
    "42.0 = 40 - 44         \n",
    "47.0 = 45 - 49         \n",
    "52.0 = 50 - 54         \n",
    "57.0 = 55 或以上         \n",
    "\n",
    "#### yearsmarried  婚姻時間                  \n",
    "0.125 = 3 個月或更短         \n",
    "0.417 = 4 - 6 個月         \n",
    "0.750 = 6 個月 - 1 年         \n",
    "1.500 = 1 - 2 年         \n",
    "4.000 = 3 - 5 年         \n",
    "7.000 = 6 - 8 年         \n",
    "10.00 = 9 - 11 年         \n",
    "15.00 = 12 年或更長時間         \n",
    "\n",
    "#### children 孩子人數                  \n",
    "0 = 無         \n",
    "1 = 一個或多個         \n",
    "         \n",
    "#### religiousness 婚內的宗教信仰         \n",
    "1 = 反宗教         \n",
    "2 = 完全沒有         \n",
    "3 = 輕微         \n",
    "4 = 有點         \n",
    "5 = 非常         \n",
    "\n",
    "#### education 教育程度         \n",
    "9.0 = 小學         \n",
    "12.0 = 高中畢業         \n",
    "14.0 = 一些大學         \n",
    "16.0 = 大學畢業生         \n",
    "17.0 = 一些畢業作品         \n",
    "18.0 = 碩士學位         \n",
    "20.0 = 博士、醫學博士或其他高級學位 \n",
    "\n",
    "#### occupation 詳見data-descriptions.pdf\n",
    "\n",
    "#### rating 對婚姻的自我評分 (5分制，1表示非常不幸福，5表示非常幸福）         "
   ]
  },
  {
   "cell_type": "markdown",
   "id": "3b33e5fb",
   "metadata": {},
   "source": [
    "### <span style=\"color:#3498DB\">Point: 請先將affairs變數轉為二值型因子'ynaffair'，外遇0次為0，外遇一次以上為1</span>"
   ]
  },
  {
   "cell_type": "code",
   "execution_count": 1,
   "id": "57e60148",
   "metadata": {},
   "outputs": [],
   "source": [
    "import numpy as np\n",
    "import pandas as pd\n",
    "import warnings\n",
    "warnings.filterwarnings(\"ignore\")\n"
   ]
  },
  {
   "cell_type": "code",
   "execution_count": 3,
   "id": "1502592d",
   "metadata": {},
   "outputs": [
    {
     "data": {
      "text/html": [
       "<div>\n",
       "<style scoped>\n",
       "    .dataframe tbody tr th:only-of-type {\n",
       "        vertical-align: middle;\n",
       "    }\n",
       "\n",
       "    .dataframe tbody tr th {\n",
       "        vertical-align: top;\n",
       "    }\n",
       "\n",
       "    .dataframe thead th {\n",
       "        text-align: right;\n",
       "    }\n",
       "</style>\n",
       "<table border=\"1\" class=\"dataframe\">\n",
       "  <thead>\n",
       "    <tr style=\"text-align: right;\">\n",
       "      <th></th>\n",
       "      <th>affairs</th>\n",
       "      <th>gender</th>\n",
       "      <th>age</th>\n",
       "      <th>yearsmarried</th>\n",
       "      <th>children</th>\n",
       "      <th>religiousness</th>\n",
       "      <th>education</th>\n",
       "      <th>occupation</th>\n",
       "      <th>rating</th>\n",
       "    </tr>\n",
       "  </thead>\n",
       "  <tbody>\n",
       "    <tr>\n",
       "      <th>0</th>\n",
       "      <td>0</td>\n",
       "      <td>male</td>\n",
       "      <td>37.0</td>\n",
       "      <td>10.00</td>\n",
       "      <td>no</td>\n",
       "      <td>3</td>\n",
       "      <td>18</td>\n",
       "      <td>7</td>\n",
       "      <td>4</td>\n",
       "    </tr>\n",
       "    <tr>\n",
       "      <th>1</th>\n",
       "      <td>0</td>\n",
       "      <td>female</td>\n",
       "      <td>27.0</td>\n",
       "      <td>4.00</td>\n",
       "      <td>no</td>\n",
       "      <td>4</td>\n",
       "      <td>14</td>\n",
       "      <td>6</td>\n",
       "      <td>4</td>\n",
       "    </tr>\n",
       "    <tr>\n",
       "      <th>2</th>\n",
       "      <td>0</td>\n",
       "      <td>female</td>\n",
       "      <td>32.0</td>\n",
       "      <td>15.00</td>\n",
       "      <td>yes</td>\n",
       "      <td>1</td>\n",
       "      <td>12</td>\n",
       "      <td>1</td>\n",
       "      <td>4</td>\n",
       "    </tr>\n",
       "    <tr>\n",
       "      <th>3</th>\n",
       "      <td>0</td>\n",
       "      <td>male</td>\n",
       "      <td>57.0</td>\n",
       "      <td>15.00</td>\n",
       "      <td>yes</td>\n",
       "      <td>5</td>\n",
       "      <td>18</td>\n",
       "      <td>6</td>\n",
       "      <td>5</td>\n",
       "    </tr>\n",
       "    <tr>\n",
       "      <th>4</th>\n",
       "      <td>0</td>\n",
       "      <td>male</td>\n",
       "      <td>22.0</td>\n",
       "      <td>0.75</td>\n",
       "      <td>no</td>\n",
       "      <td>2</td>\n",
       "      <td>17</td>\n",
       "      <td>6</td>\n",
       "      <td>3</td>\n",
       "    </tr>\n",
       "  </tbody>\n",
       "</table>\n",
       "</div>"
      ],
      "text/plain": [
       "   affairs  gender   age  yearsmarried children  religiousness  education  \\\n",
       "0        0    male  37.0         10.00       no              3         18   \n",
       "1        0  female  27.0          4.00       no              4         14   \n",
       "2        0  female  32.0         15.00      yes              1         12   \n",
       "3        0    male  57.0         15.00      yes              5         18   \n",
       "4        0    male  22.0          0.75       no              2         17   \n",
       "\n",
       "   occupation  rating  \n",
       "0           7       4  \n",
       "1           6       4  \n",
       "2           1       4  \n",
       "3           6       5  \n",
       "4           6       3  "
      ]
     },
     "execution_count": 3,
     "metadata": {},
     "output_type": "execute_result"
    }
   ],
   "source": [
    "df = pd.read_csv('data/Affairs.csv')\n",
    "df.head()"
   ]
  },
  {
   "cell_type": "markdown",
   "id": "f8dffbeb",
   "metadata": {},
   "source": [
    "(1) 該位外遇的可能性有多大？ "
   ]
  },
  {
   "cell_type": "code",
   "execution_count": 4,
   "id": "416fe8b8",
   "metadata": {},
   "outputs": [
    {
     "name": "stdout",
     "output_type": "stream",
     "text": [
      "Confusion Matrix:\n",
      "[[88  3]\n",
      " [25  5]]\n",
      "\n",
      "Classification Report:\n",
      "              precision    recall  f1-score   support\n",
      "\n",
      "           0       0.78      0.97      0.86        91\n",
      "           1       0.62      0.17      0.26        30\n",
      "\n",
      "    accuracy                           0.77       121\n",
      "   macro avg       0.70      0.57      0.56       121\n",
      "weighted avg       0.74      0.77      0.71       121\n",
      "\n",
      "ROC AUC Score: 0.6938\n",
      "\n",
      "該位樣本預測外遇機率為：21.03%\n"
     ]
    }
   ],
   "source": [
    "from sklearn.linear_model import LogisticRegression\n",
    "from sklearn.model_selection import train_test_split\n",
    "from sklearn.preprocessing import StandardScaler\n",
    "from sklearn.metrics import confusion_matrix, classification_report, roc_auc_score\n",
    "import statsmodels.api as sm\n",
    "\n",
    "# 建立二元標籤：0 = 無外遇，1 = 有外遇（一次以上）\n",
    "df[\"ynaffair\"] = np.where(df[\"affairs\"] > 0, 1, 0)\n",
    "\n",
    "# One-hot encoding 處理類別變數\n",
    "df_encoded = pd.get_dummies(df, columns=[\"gender\", \"children\"], drop_first=True)\n",
    "\n",
    "# 指定特徵與目標\n",
    "features = ['age', 'yearsmarried', 'religiousness', 'education', \n",
    "            'occupation', 'rating', 'gender_male', 'children_yes']\n",
    "X = df_encoded[features]\n",
    "y = df_encoded[\"ynaffair\"]\n",
    "\n",
    "# 切分訓練集與測試集\n",
    "X_train, X_test, y_train, y_test = train_test_split(X, y, test_size=0.2, random_state=42, stratify=y)\n",
    "\n",
    "# 標準化特徵\n",
    "scaler = StandardScaler()\n",
    "X_train_scaled = scaler.fit_transform(X_train)\n",
    "X_test_scaled = scaler.transform(X_test)\n",
    "\n",
    "# 建立 Logistic Regression 模型並訓練\n",
    "model = LogisticRegression()\n",
    "model.fit(X_train_scaled, y_train)\n",
    "\n",
    "# 模型預測與評估\n",
    "y_pred = model.predict(X_test_scaled)\n",
    "y_prob = model.predict_proba(X_test_scaled)[:, 1]\n",
    "\n",
    "# 顯示結果\n",
    "print(\"Confusion Matrix:\")\n",
    "print(confusion_matrix(y_test, y_pred))\n",
    "print(\"\\nClassification Report:\")\n",
    "print(classification_report(y_test, y_pred))\n",
    "print(f\"ROC AUC Score: {roc_auc_score(y_test, y_prob):.4f}\")\n",
    "\n",
    "# 預測個體外遇機率（自訂樣本）\n",
    "# 範例輸入：35歲、婚齡10年、宗教3、教育16、職業5、滿意度4、男性、有無小孩\n",
    "sample = np.array([[35, 10, 3, 16, 5, 4, 1, 0]])\n",
    "sample_scaled = scaler.transform(sample)\n",
    "sample_prob = model.predict_proba(sample_scaled)[0][1]\n",
    "\n",
    "print(f\"\\n該位樣本預測外遇機率為：{sample_prob:.2%}\")"
   ]
  },
  {
   "cell_type": "markdown",
   "id": "c9cc6a24",
   "metadata": {},
   "source": [
    "(2) 影響外遇的原因是什麼？"
   ]
  },
  {
   "cell_type": "code",
   "execution_count": 5,
   "id": "4d2d6871",
   "metadata": {},
   "outputs": [
    {
     "name": "stdout",
     "output_type": "stream",
     "text": [
      "         Feature  Coefficient  Odds Ratio\n",
      "1   yearsmarried     0.355532    1.426939\n",
      "7   children_yes     0.236760    1.267137\n",
      "6    gender_male     0.211414    1.235423\n",
      "4     occupation     0.087684    1.091643\n",
      "3      education     0.017908    1.018069\n",
      "0            age    -0.305045    0.737090\n",
      "2  religiousness    -0.427931    0.651857\n",
      "5         rating    -0.480698    0.618352\n"
     ]
    }
   ],
   "source": [
    "# 建立係數表\n",
    "coef_df = pd.DataFrame({\n",
    "    \"Feature\": features,\n",
    "    \"Coefficient\": model.coef_[0],\n",
    "    \"Odds Ratio\": np.exp(model.coef_[0])\n",
    "}).sort_values(by=\"Odds Ratio\", ascending=False)\n",
    "\n",
    "# 顯示影響因子排序\n",
    "print(coef_df)\n"
   ]
  },
  {
   "cell_type": "markdown",
   "id": "61a9629b",
   "metadata": {},
   "source": [
    "| Feature       | Coefficient | Odds Ratio | 解釋               |\n",
    "| ------------- | ----------- | ---------- | ---------------- |\n",
    "| yearsmarried  | +           | >1         | 結婚年數越久，越可能外遇     |\n",
    "| children\\_yes | +           | >1         | 有小孩略可能提高外遇風險     |\n",
    "| rating        | –           | <1         | 婚姻滿意度高，外遇機率下降    |\n",
    "| religiousness | –           | <1         | 越虔誠，外遇機率明顯下降     |\n",
    "| gender\\_male  | +           | >1         | 男性傾向外遇的機率略高（如為正） |\n",
    "| age           | –           | <1         | 年齡越高，外遇傾向下降      |\n"
   ]
  },
  {
   "cell_type": "markdown",
   "id": "d2329816",
   "metadata": {},
   "source": [
    "(3) 可以根據分析結果說明如何降低外遇的發生嗎？"
   ]
  },
  {
   "cell_type": "code",
   "execution_count": 6,
   "id": "ceceeb89",
   "metadata": {},
   "outputs": [
    {
     "name": "stdout",
     "output_type": "stream",
     "text": [
      "各情境下預測外遇機率：\n",
      "\n",
      "原始狀態                 → 預測外遇機率：37.30%\n",
      "增加婚姻滿意度（3→5）         → 預測外遇機率：19.84%\n",
      "提高宗教虔誠度（2→4）         → 預測外遇機率：22.26%\n",
      "雙重提升：滿意度+虔誠度         → 預測外遇機率：10.65%\n"
     ]
    }
   ],
   "source": [
    "# 建立一組基礎特徵值（中性樣本）\n",
    "# 特徵順序：[age, yearsmarried, religiousness, education, occupation, rating, gender_male, children_yes]\n",
    "base = np.array([[35, 10, 2, 16, 5, 3, 1, 0]])  # 中度虔誠、滿意度普通\n",
    "\n",
    "# 定義模擬條件\n",
    "scenarios = {\n",
    "    \"原始狀態\": base,\n",
    "    \"增加婚姻滿意度（3→5）\": base.copy(),\n",
    "    \"提高宗教虔誠度（2→4）\": base.copy(),\n",
    "    \"雙重提升：滿意度+虔誠度\": base.copy()\n",
    "}\n",
    "\n",
    "# 修改對應欄位：rating=5、religiousness=4\n",
    "scenarios[\"增加婚姻滿意度（3→5）\"][0, 5] = 5\n",
    "scenarios[\"提高宗教虔誠度（2→4）\"][0, 2] = 4\n",
    "scenarios[\"雙重提升：滿意度+虔誠度\"][0, 5] = 5\n",
    "scenarios[\"雙重提升：滿意度+虔誠度\"][0, 2] = 4\n",
    "\n",
    "# 計算每個情境下的外遇機率\n",
    "print(\"各情境下預測外遇機率：\\n\")\n",
    "for label, data in scenarios.items():\n",
    "    scaled = scaler.transform(data)\n",
    "    prob = model.predict_proba(scaled)[0][1]\n",
    "    print(f\"{label:<20} → 預測外遇機率：{prob:.2%}\")\n"
   ]
  },
  {
   "cell_type": "markdown",
   "id": "e9e6b8b6",
   "metadata": {},
   "source": [
    "| 如何降低外遇的發生                | 建議內容                                                   |\n",
    "|----------------------------|-------------------------------------------------------------|\n",
    "| 提升婚姻滿意度（最顯著因子） | 鼓勵溝通、情感支持、共同成長。                                 |\n",
    "| 建立或強化宗教/道德支持     | 社群歸屬與價值導向有助降低外遇風險。                           |\n",
    "| 關注婚齡變長的風險         | 定期檢視婚姻狀況、製造新鮮感與連結。                           |\n"
   ]
  }
 ],
 "metadata": {
  "kernelspec": {
   "display_name": "base",
   "language": "python",
   "name": "python3"
  },
  "language_info": {
   "codemirror_mode": {
    "name": "ipython",
    "version": 3
   },
   "file_extension": ".py",
   "mimetype": "text/x-python",
   "name": "python",
   "nbconvert_exporter": "python",
   "pygments_lexer": "ipython3",
   "version": "3.12.3"
  }
 },
 "nbformat": 4,
 "nbformat_minor": 5
}
